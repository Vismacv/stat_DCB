{
  "nbformat": 4,
  "nbformat_minor": 0,
  "metadata": {
    "colab": {
      "provenance": [],
      "authorship_tag": "ABX9TyN4L/TWvHMPjEnMtwlMeA/1",
      "include_colab_link": true
    },
    "kernelspec": {
      "name": "python3",
      "display_name": "Python 3"
    },
    "language_info": {
      "name": "python"
    }
  },
  "cells": [
    {
      "cell_type": "markdown",
      "metadata": {
        "id": "view-in-github",
        "colab_type": "text"
      },
      "source": [
        "<a href=\"https://colab.research.google.com/github/Vismacv/stat_DCB/blob/main/Statistics.ipynb\" target=\"_parent\"><img src=\"https://colab.research.google.com/assets/colab-badge.svg\" alt=\"Open In Colab\"/></a>"
      ]
    },
    {
      "cell_type": "markdown",
      "source": [
        "PROJECT"
      ],
      "metadata": {
        "id": "px1e83mjBrDN"
      }
    },
    {
      "cell_type": "markdown",
      "source": [
        "MEAN"
      ],
      "metadata": {
        "id": "IpR8uqjFBudx"
      }
    },
    {
      "cell_type": "code",
      "execution_count": null,
      "metadata": {
        "colab": {
          "base_uri": "https://localhost:8080/"
        },
        "id": "4YSbtWtt8SXA",
        "outputId": "fadb894f-c44f-453a-abf9-f0c3b51f1706"
      },
      "outputs": [
        {
          "output_type": "stream",
          "name": "stdout",
          "text": [
            "3.5\n"
          ]
        }
      ],
      "source": [
        "import statistics\n",
        "print(statistics.mean([2,3,4,5]))"
      ]
    },
    {
      "cell_type": "code",
      "source": [
        "s=[2,3,4,5]\n",
        "sum=0\n",
        "count=0\n",
        "for i in s:\n",
        "  sum=sum+i\n",
        "  count=count+1\n",
        "print(\"Mean is \",sum/count)"
      ],
      "metadata": {
        "colab": {
          "base_uri": "https://localhost:8080/"
        },
        "id": "yfUaFrhoB1xC",
        "outputId": "e2a7b0c9-ddb5-4832-8ae5-676ff5148285"
      },
      "execution_count": null,
      "outputs": [
        {
          "output_type": "stream",
          "name": "stdout",
          "text": [
            "Mean is  3.5\n"
          ]
        }
      ]
    },
    {
      "cell_type": "code",
      "source": [
        "def mean(num):\n",
        "    sum = 0\n",
        "    for i in num:\n",
        "        sum = sum+i\n",
        "    avg = sum / len(num)\n",
        "    return avg\n",
        "print(\"Mean is\", mean([2,3,4,5]))"
      ],
      "metadata": {
        "colab": {
          "base_uri": "https://localhost:8080/"
        },
        "id": "kAonPFy2CHxw",
        "outputId": "77862df9-1007-4aff-8317-e7299a618f4c"
      },
      "execution_count": null,
      "outputs": [
        {
          "output_type": "stream",
          "name": "stdout",
          "text": [
            "Mean is 3.5\n"
          ]
        }
      ]
    },
    {
      "cell_type": "markdown",
      "source": [
        "MEDIAN"
      ],
      "metadata": {
        "id": "2g_RAE4dCLxO"
      }
    },
    {
      "cell_type": "code",
      "source": [
        "import statistics\n",
        "print(statistics.median([2,3,4,5,6,7]))"
      ],
      "metadata": {
        "colab": {
          "base_uri": "https://localhost:8080/"
        },
        "id": "t4XoNvbWCXuM",
        "outputId": "6c31b362-acbd-4b75-ff83-2dfcd1df7ebe"
      },
      "execution_count": null,
      "outputs": [
        {
          "output_type": "stream",
          "name": "stdout",
          "text": [
            "4.5\n"
          ]
        }
      ]
    },
    {
      "cell_type": "code",
      "source": [
        "s=[2,3,4,5,6,7]\n",
        "n=len(s)\n",
        "s.sort()\n",
        "if n%2==0:\n",
        "  median1=s[n//2]\n",
        "  median2=s[n//2-1]\n",
        "  median=(median1+median2)/2\n",
        "else:\n",
        "  median=s[n//2]\n",
        "print(\"Median is \",median)"
      ],
      "metadata": {
        "colab": {
          "base_uri": "https://localhost:8080/"
        },
        "id": "QMdTp-TlCdoe",
        "outputId": "879d6a7a-cdea-4f73-e94a-9f609ce0cf5d"
      },
      "execution_count": null,
      "outputs": [
        {
          "output_type": "stream",
          "name": "stdout",
          "text": [
            "Median is  4.5\n"
          ]
        }
      ]
    },
    {
      "cell_type": "code",
      "source": [
        "def median(data):\n",
        "    sorted_data = sorted(data)\n",
        "    data_len = len(sorted_data)\n",
        "    middle = (data_len - 1) // 2\n",
        "    if middle % 2:\n",
        "      return sorted_data[middle]\n",
        "    else:\n",
        "        return (sorted_data[middle] + sorted_data[middle + 1]) / 2.0\n",
        "print('Median is',median([2,3,4,5,6,7]))"
      ],
      "metadata": {
        "colab": {
          "base_uri": "https://localhost:8080/"
        },
        "id": "AfeZ5cHyCgzF",
        "outputId": "804d4009-b6da-4f04-8493-46186976cb51"
      },
      "execution_count": null,
      "outputs": [
        {
          "output_type": "stream",
          "name": "stdout",
          "text": [
            "Median is 4.5\n"
          ]
        }
      ]
    },
    {
      "cell_type": "markdown",
      "source": [
        "MODE"
      ],
      "metadata": {
        "id": "Zq63otJ2CoYf"
      }
    },
    {
      "cell_type": "code",
      "source": [
        "import statistics\n",
        "print(statistics.mode([1,1,2,3,1]))"
      ],
      "metadata": {
        "colab": {
          "base_uri": "https://localhost:8080/"
        },
        "id": "oOCZ7umECpsJ",
        "outputId": "1be64136-f978-4bc2-afbd-228ce7da0445"
      },
      "execution_count": null,
      "outputs": [
        {
          "output_type": "stream",
          "name": "stdout",
          "text": [
            "1\n"
          ]
        }
      ]
    },
    {
      "cell_type": "code",
      "source": [
        "num = [1,1,2,3,1]\n",
        "uniq_values = []\n",
        "mode_values = []\n",
        "for i in num:\n",
        "    if i not in uniq_values:\n",
        "        uniq_values.append(i)\n",
        "    else:\n",
        "        mode_values.append(i)\n",
        "print(set(mode_values))"
      ],
      "metadata": {
        "colab": {
          "base_uri": "https://localhost:8080/"
        },
        "id": "SooCvMsVC3h3",
        "outputId": "2481a92f-64bf-4d55-f994-e51ed14006e6"
      },
      "execution_count": null,
      "outputs": [
        {
          "output_type": "stream",
          "name": "stdout",
          "text": [
            "{1}\n"
          ]
        }
      ]
    },
    {
      "cell_type": "code",
      "source": [
        "def mode(list):\n",
        "  y={}\n",
        "  for i in list:\n",
        "    if not i in y:\n",
        "      y[i]=1\n",
        "    else:\n",
        "        y[i]=y[i]+1\n",
        "  return[g for g,l in y.items() if l==max(y.values())]\n",
        "mode([1,1,2,3,1])"
      ],
      "metadata": {
        "colab": {
          "base_uri": "https://localhost:8080/"
        },
        "id": "e7iy71p7C6vR",
        "outputId": "62805b01-4eba-4569-b3a7-7664b13c0f1a"
      },
      "execution_count": null,
      "outputs": [
        {
          "output_type": "execute_result",
          "data": {
            "text/plain": [
              "[1]"
            ]
          },
          "metadata": {},
          "execution_count": 2
        }
      ]
    },
    {
      "cell_type": "markdown",
      "source": [
        "LINE GRAPH"
      ],
      "metadata": {
        "id": "xWD3vcxpDYAx"
      }
    },
    {
      "cell_type": "code",
      "source": [
        "import matplotlib.pyplot as plt\n",
        "x_value=[1,2,3,4,5]\n",
        "y_value=[2,4,6,8,10]\n",
        "plt.plot(x_value,y_value,marker='o',color='b',label='Line Graph')\n",
        "plt.xlabel('X-axis')\n",
        "plt.ylabel('Y-axis')\n",
        "plt.title('Line Graph ')\n",
        "plt.legend()\n",
        "plt.show()"
      ],
      "metadata": {
        "colab": {
          "base_uri": "https://localhost:8080/",
          "height": 472
        },
        "id": "W7rjL4aEDVSs",
        "outputId": "5a031ccf-df89-4297-fc9a-0ca3371b3a1d"
      },
      "execution_count": null,
      "outputs": [
        {
          "output_type": "display_data",
          "data": {
            "text/plain": [
              "<Figure size 640x480 with 1 Axes>"
            ],
            "image/png": "[encoded data removed]"
          },
          "metadata": {}
        }
      ]
    },
    {
      "cell_type": "code",
      "source": [
        "import matplotlib.pyplot as plt\n",
        "def line_graph(x,y):\n",
        "  plt.plot(x_value,y_value,marker='o',color='b',label='Line Graph')\n",
        "  plt.xlabel('X-axis')\n",
        "  plt.ylabel('Y-axis')\n",
        "  plt.title('Line Graph ')\n",
        "  plt.legend()\n",
        "  plt.show()\n",
        "line_graph([1,2,3,4,5],[2,4,6,8,10])"
      ],
      "metadata": {
        "colab": {
          "base_uri": "https://localhost:8080/",
          "height": 472
        },
        "id": "scjfYCR2DbHY",
        "outputId": "1b0b326a-2a81-47dc-8fba-914e2e717695"
      },
      "execution_count": null,
      "outputs": [
        {
          "output_type": "display_data",
          "data": {
            "text/plain": [
              "<Figure size 640x480 with 1 Axes>"
            ],
            "image/png": "[encoded data removed]"
          },
          "metadata": {}
        }
      ]
    },
    {
      "cell_type": "markdown",
      "source": [
        "HISTOGRAM"
      ],
      "metadata": {
        "id": "2ey0_StEEEIi"
      }
    },
    {
      "cell_type": "code",
      "source": [
        "import matplotlib.pyplot as plt\n",
        "data=[1,2,2,3,3,3,4,4,4,4,5,5,5]\n",
        "plt.hist(data,bins=5,color='skyblue',edgecolor='black')\n",
        "plt.xlabel('Values')\n",
        "plt.ylabel('Frequency')\n",
        "plt.title('Histogram')\n",
        "plt.show()"
      ],
      "metadata": {
        "colab": {
          "base_uri": "https://localhost:8080/",
          "height": 472
        },
        "id": "NrvVpUUlEDSa",
        "outputId": "1250836b-7e91-4126-a4e1-635e73517f17"
      },
      "execution_count": null,
      "outputs": [
        {
          "output_type": "display_data",
          "data": {
            "text/plain": [
              "<Figure size 640x480 with 1 Axes>"
            ],
            "image/png": "[encoded data removed]"
          },
          "metadata": {}
        }
      ]
    },
    {
      "cell_type": "code",
      "source": [
        "import matplotlib.pyplot as plt\n",
        "def histogram(data):\n",
        "  plt.hist(data,bins=5,color='skyblue',edgecolor='black')\n",
        "  plt.xlabel('Values')\n",
        "  plt.ylabel('Frequency')\n",
        "  plt.title('Histogram')\n",
        "  plt.show()\n",
        "histogram([1,2,2,3,3,3,4,4,4,4,5,5,5])"
      ],
      "metadata": {
        "colab": {
          "base_uri": "https://localhost:8080/",
          "height": 472
        },
        "id": "SJX7tNg9ER44",
        "outputId": "c5d1c4dc-f50d-4756-9236-8cbea8d46843"
      },
      "execution_count": null,
      "outputs": [
        {
          "output_type": "display_data",
          "data": {
            "text/plain": [
              "<Figure size 640x480 with 1 Axes>"
            ],
            "image/png": "[encoded data removed]"
          },
          "metadata": {}
        }
      ]
    },
    {
      "cell_type": "markdown",
      "source": [
        "BAR DIAGRAM"
      ],
      "metadata": {
        "id": "m6i91_GgEqjD"
      }
    },
    {
      "cell_type": "code",
      "source": [
        "import matplotlib.pyplot as plt\n",
        "subject=['English','Science','Maths','History']\n",
        "marks=[34,45,47,40]\n",
        "plt.bar(subject,marks,color='skyblue')\n",
        "plt.xlabel('Subjects')\n",
        "plt.ylabel('Marks')\n",
        "plt.title('Bar Diagram')\n",
        "plt.show()"
      ],
      "metadata": {
        "colab": {
          "base_uri": "https://localhost:8080/",
          "height": 472
        },
        "id": "6ul7J4uiExQh",
        "outputId": "1efaac12-f315-4e9d-8292-6184f4faee02"
      },
      "execution_count": null,
      "outputs": [
        {
          "output_type": "display_data",
          "data": {
            "text/plain": [
              "<Figure size 640x480 with 1 Axes>"
            ],
            "image/png": "[encoded data removed]"
          },
          "metadata": {}
        }
      ]
    },
    {
      "cell_type": "code",
      "source": [
        "import matplotlib.pyplot as plt\n",
        "def bar_diagram(subject,marks):\n",
        "  plt.bar(subject,marks,color='skyblue')\n",
        "  plt.xlabel('Subjects')\n",
        "  plt.ylabel('Marks')\n",
        "  plt.title('Bar Diagram')\n",
        "  plt.show()\n",
        "bar_diagram(['English','Science','Maths','History'],[34,45,47,40])"
      ],
      "metadata": {
        "colab": {
          "base_uri": "https://localhost:8080/",
          "height": 472
        },
        "id": "lvepbGmZE2sv",
        "outputId": "70ff7e84-94d6-43ce-bff5-56f679468c4a"
      },
      "execution_count": null,
      "outputs": [
        {
          "output_type": "display_data",
          "data": {
            "text/plain": [
              "<Figure size 640x480 with 1 Axes>"
            ],
            "image/png": "[encoded data removed]"
          },
          "metadata": {}
        }
      ]
    },
    {
      "cell_type": "markdown",
      "source": [
        "PIE DIAGRAM"
      ],
      "metadata": {
        "id": "RVM2kDnZFZt1"
      }
    },
    {
      "cell_type": "code",
      "source": [
        "import matplotlib.pyplot as plt\n",
        "item=['Food','House','Clothing','Saving','Education']\n",
        "expenditure=[50,10,10,20,25]\n",
        "plt.pie(expenditure,labels=item)\n",
        "plt.title('Pie Diagram')\n",
        "plt.show()"
      ],
      "metadata": {
        "colab": {
          "base_uri": "https://localhost:8080/",
          "height": 428
        },
        "id": "KTn1d3kPFcps",
        "outputId": "87e5c367-9abc-4c3f-bbb6-009182d3a15e"
      },
      "execution_count": null,
      "outputs": [
        {
          "output_type": "display_data",
          "data": {
            "text/plain": [
              "<Figure size 640x480 with 1 Axes>"
            ],
            "image/png": "[encoded data removed]"
          },
          "metadata": {}
        }
      ]
    },
    {
      "cell_type": "code",
      "source": [
        "import matplotlib.pyplot as plt\n",
        "def pie_diagram(item,expenditure):\n",
        "  plt.pie(expenditure,labels=item)\n",
        "  plt.show()\n",
        "pie_diagram(['Food','House','Clothing','Saving','Education'],[50,10,10,20,25])"
      ],
      "metadata": {
        "colab": {
          "base_uri": "https://localhost:8080/",
          "height": 406
        },
        "id": "FLmZcpNQFlax",
        "outputId": "dabc091c-f270-4792-a6f9-bf1b0edbd2cd"
      },
      "execution_count": null,
      "outputs": [
        {
          "output_type": "display_data",
          "data": {
            "text/plain": [
              "<Figure size 640x480 with 1 Axes>"
            ],
            "image/png": "[encoded data removed]"
          },
          "metadata": {}
        }
      ]
    },
    {
      "cell_type": "markdown",
      "source": [
        "SCATTER DIAGRAM"
      ],
      "metadata": {
        "id": "G-eZ4YLUGWN0"
      }
    },
    {
      "cell_type": "code",
      "source": [
        "import matplotlib.pyplot as plt\n",
        "Height_of_father=[65,63,67,64,68,70,71,69]\n",
        "Height_of_son=[67,66,68,65,69,68,70,68]\n",
        "plt.scatter(Height_of_father,Height_of_son)"
      ],
      "metadata": {
        "colab": {
          "base_uri": "https://localhost:8080/",
          "height": 447
        },
        "id": "TmB52EgGGaDA",
        "outputId": "a51c9784-e861-472e-94cf-c39634795e31"
      },
      "execution_count": null,
      "outputs": [
        {
          "output_type": "execute_result",
          "data": {
            "text/plain": [
              "<matplotlib.collections.PathCollection at 0x790b73239e40>"
            ]
          },
          "metadata": {},
          "execution_count": 22
        },
        {
          "output_type": "display_data",
          "data": {
            "text/plain": [
              "<Figure size 640x480 with 1 Axes>"
            ],
            "image/png": "[encoded data removed]"
          },
          "metadata": {}
        }
      ]
    },
    {
      "cell_type": "code",
      "source": [
        "import matplotlib.pyplot as plt\n",
        "def scatter_diagram(father,son):\n",
        "  plt.scatter(Height_of_father,Height_of_son)\n",
        "scatter_diagram([65,63,67,64,68,70,71,69],[67,66,68,65,69,68,70,68])"
      ],
      "metadata": {
        "colab": {
          "base_uri": "https://localhost:8080/",
          "height": 430
        },
        "id": "ws5rZZTmGoVY",
        "outputId": "599148a6-817f-43c6-b372-dc6892a5607f"
      },
      "execution_count": null,
      "outputs": [
        {
          "output_type": "display_data",
          "data": {
            "text/plain": [
              "<Figure size 640x480 with 1 Axes>"
            ],
            "image/png": "[encoded data removed]"
          },
          "metadata": {}
        }
      ]
    },
    {
      "cell_type": "markdown",
      "source": [
        "RANGE"
      ],
      "metadata": {
        "id": "onkX8b7lHalV"
      }
    },
    {
      "cell_type": "code",
      "source": [
        "L=[5,23,45,78,21,55]\n",
        "maximum=max(L)\n",
        "minimum=min(L)\n",
        "Range=maximum-minimum\n",
        "print(Range)"
      ],
      "metadata": {
        "colab": {
          "base_uri": "https://localhost:8080/"
        },
        "id": "VQeK44j9HcJw",
        "outputId": "8650ac9d-29c3-4d8e-d06d-fe0f66d695f2"
      },
      "execution_count": null,
      "outputs": [
        {
          "output_type": "stream",
          "name": "stdout",
          "text": [
            "73\n"
          ]
        }
      ]
    },
    {
      "cell_type": "code",
      "source": [
        "def range(L):\n",
        "  maximum=max(L)\n",
        "  minimum=min(L)\n",
        "  Range=maximum-minimum\n",
        "  return(Range)\n",
        "range([5,23,45,78,21,55])\n"
      ],
      "metadata": {
        "colab": {
          "base_uri": "https://localhost:8080/"
        },
        "id": "E4p7FEUwHmxJ",
        "outputId": "e0fd4e11-c0a0-4cd0-a42c-cffb215dd2f7"
      },
      "execution_count": null,
      "outputs": [
        {
          "output_type": "execute_result",
          "data": {
            "text/plain": [
              "73"
            ]
          },
          "metadata": {},
          "execution_count": 3
        }
      ]
    },
    {
      "cell_type": "markdown",
      "source": [
        "Co-efficient of Range"
      ],
      "metadata": {
        "id": "hPvLcleYHr0Z"
      }
    },
    {
      "cell_type": "code",
      "source": [
        "D=[60,70,80,100,120,140,160,170,180,200]\n",
        "H=max(D)\n",
        "L=min(D)\n",
        "Crange=(H-L)/(H+L)\n",
        "print(Crange)"
      ],
      "metadata": {
        "colab": {
          "base_uri": "https://localhost:8080/"
        },
        "id": "AmfpVaXdIVpi",
        "outputId": "e32e3709-8ffd-4b7e-c9eb-53673194d4f4"
      },
      "execution_count": null,
      "outputs": [
        {
          "output_type": "stream",
          "name": "stdout",
          "text": [
            "0.5384615384615384\n"
          ]
        }
      ]
    },
    {
      "cell_type": "code",
      "source": [
        "def Co_range(L):\n",
        "  H=max(L)\n",
        "  L=min(L)\n",
        "  Crange=(H-L)/(H+L)\n",
        "  return(Crange)\n",
        "Co_range([60,70,80,100,120,140,160,170,180,200])"
      ],
      "metadata": {
        "colab": {
          "base_uri": "https://localhost:8080/"
        },
        "id": "cqo6nEYuIhX6",
        "outputId": "e00c300f-0cd1-4dc4-b913-fd814e566775"
      },
      "execution_count": null,
      "outputs": [
        {
          "output_type": "execute_result",
          "data": {
            "text/plain": [
              "0.5384615384615384"
            ]
          },
          "metadata": {},
          "execution_count": 4
        }
      ]
    },
    {
      "cell_type": "markdown",
      "source": [
        "VARIANCE"
      ],
      "metadata": {
        "id": "ZwJJ5AVoJV8j"
      }
    },
    {
      "cell_type": "code",
      "source": [
        "import statistics\n",
        "sample=[2,7,9]\n",
        "print(statistics.variance(sample))"
      ],
      "metadata": {
        "colab": {
          "base_uri": "https://localhost:8080/"
        },
        "id": "zaJ9ewj9JX7_",
        "outputId": "1e8c913b-311c-4a93-9d7d-6097744f80dc"
      },
      "execution_count": null,
      "outputs": [
        {
          "output_type": "stream",
          "name": "stdout",
          "text": [
            "13\n"
          ]
        }
      ]
    },
    {
      "cell_type": "code",
      "source": [
        "x=[2,7,9]\n",
        "sum=0;sumd=0;sumds=0\n",
        "x1=[];x2=[]\n",
        "N=len(x)\n",
        "dof=0\n",
        "for i in x:\n",
        "  sum=sum+i\n",
        "mean=sum/len(x)\n",
        "for i in x:\n",
        "  deviation=i-mean\n",
        "  x1.append(deviation)\n",
        "  devsqure=deviation*deviation\n",
        "  x2.append(devsqure)\n",
        "for i in x1:\n",
        "  sumd=sumd+i\n",
        "for i in x2:\n",
        "  sumds=sumds+i\n",
        "variance=sumds/(N-dof)\n",
        "print(variance)"
      ],
      "metadata": {
        "colab": {
          "base_uri": "https://localhost:8080/"
        },
        "id": "SZwGeh18JgQD",
        "outputId": "39807829-b8b4-40a2-aa56-ee9f15b9e6f8"
      },
      "execution_count": null,
      "outputs": [
        {
          "output_type": "stream",
          "name": "stdout",
          "text": [
            "8.666666666666666\n"
          ]
        }
      ]
    },
    {
      "cell_type": "code",
      "source": [
        "def variance(L,dof=0):\n",
        "  sum=0;sumd=0;sumds=0\n",
        "  d1=[];d2=[]\n",
        "  N=len(L)\n",
        "  for i in L:\n",
        "    sum=sum+i\n",
        "  mean=sum/len(L)\n",
        "  for i in L:\n",
        "    deviation=i-mean\n",
        "    d1.append(deviation)\n",
        "    devsqure=deviation*deviation\n",
        "    d2.append(devsqure)\n",
        "  for i in d1:\n",
        "      sumd=sumd+i\n",
        "  for i in d2:\n",
        "   sumds=sumds+i\n",
        "  var=sumds/(N-dof)\n",
        "  return(var)\n",
        "variance([2,7,9])"
      ],
      "metadata": {
        "colab": {
          "base_uri": "https://localhost:8080/"
        },
        "id": "p1oV1CeqKDAs",
        "outputId": "6f48f475-5e78-4b6f-9c98-f1cc84ab2ae0"
      },
      "execution_count": null,
      "outputs": [
        {
          "output_type": "execute_result",
          "data": {
            "text/plain": [
              "8.666666666666666"
            ]
          },
          "metadata": {},
          "execution_count": 5
        }
      ]
    },
    {
      "cell_type": "markdown",
      "source": [
        "STANDARD DEVIATION"
      ],
      "metadata": {
        "id": "V02fqypIIpZg"
      }
    },
    {
      "cell_type": "code",
      "source": [
        "import statistics as st\n",
        "data=[1,2,3,4,5]\n",
        "sd = st.stdev(data)\n",
        "print(sd)"
      ],
      "metadata": {
        "colab": {
          "base_uri": "https://localhost:8080/"
        },
        "id": "0_-evWYzItEf",
        "outputId": "91280627-aa98-408c-a548-79a2f0995847"
      },
      "execution_count": null,
      "outputs": [
        {
          "output_type": "stream",
          "name": "stdout",
          "text": [
            "1.5811388300841898\n"
          ]
        }
      ]
    },
    {
      "cell_type": "code",
      "source": [
        "x=[1,2,3,4,5]\n",
        "sum=0;sumd=0;sumds=0\n",
        "x1=[];x2=[]\n",
        "N=len(x)\n",
        "dof=0\n",
        "for i in x:\n",
        "  sum=sum+i\n",
        "mean=sum/len(x)\n",
        "for i in x:\n",
        "  deviation=i-mean\n",
        "  x1.append(deviation)\n",
        "  devsqure=deviation*deviation\n",
        "  x2.append(devsqure)\n",
        "for i in x1:\n",
        "  sumd=sumd+i\n",
        "for i in x2:\n",
        "  sumds=sumds+i\n",
        "variance=sumds/(N-dof)\n",
        "stddev=variance**0.5\n",
        "print(x1)\n",
        "print(x2)\n",
        "print(sumd)\n",
        "print(sumds)\n",
        "print(variance)\n",
        "print(stddev)"
      ],
      "metadata": {
        "colab": {
          "base_uri": "https://localhost:8080/"
        },
        "id": "Ocn2eezUJLOH",
        "outputId": "b40e8355-9a8d-4fde-dcd3-3b0fa224b224"
      },
      "execution_count": null,
      "outputs": [
        {
          "output_type": "stream",
          "name": "stdout",
          "text": [
            "[-2.0, -1.0, 0.0, 1.0, 2.0]\n",
            "[4.0, 1.0, 0.0, 1.0, 4.0]\n",
            "0.0\n",
            "10.0\n",
            "2.0\n",
            "1.4142135623730951\n"
          ]
        }
      ]
    },
    {
      "cell_type": "code",
      "source": [
        "def SD(L,dof=0):\n",
        "  sum=0;sumd=0;sumds=0\n",
        "  d1=[];d2=[]\n",
        "  N=len(L)\n",
        "  for i in L:\n",
        "    sum=sum+i\n",
        "  mean=sum/len(L)\n",
        "  for i in L:\n",
        "    deviation=i-mean\n",
        "    d1.append(deviation)\n",
        "    devsqure=deviation*deviation\n",
        "    d2.append(devsqure)\n",
        "  for i in d1:\n",
        "      sumd=sumd+i\n",
        "  for i in d2:\n",
        "   sumds=sumds+i\n",
        "  variance=sumds/(N-dof)\n",
        "  stddev=variance**0.5\n",
        "  return(stddev)\n",
        "SD([1,2,3,4,5])"
      ],
      "metadata": {
        "colab": {
          "base_uri": "https://localhost:8080/"
        },
        "id": "yMR7ZP0dJOpn",
        "outputId": "eee4a174-bf1c-4887-f832-d5bfd8c74930"
      },
      "execution_count": null,
      "outputs": [
        {
          "output_type": "stream",
          "name": "stdout",
          "text": [
            "1.4142135623730951\n"
          ]
        }
      ]
    },
    {
      "cell_type": "markdown",
      "source": [
        "Karl Pearson Correlation Coefficient\n"
      ],
      "metadata": {
        "id": "8mm-q6ZMKahr"
      }
    },
    {
      "cell_type": "code",
      "source": [
        "from statistics import correlation\n",
        "x=[65,66,67,68,69,70,71]\n",
        "y=[67,68,66,69,72,72,69]\n",
        "correlation(x,y)"
      ],
      "metadata": {
        "colab": {
          "base_uri": "https://localhost:8080/"
        },
        "id": "6wycdcljKZ__",
        "outputId": "bd91967c-f54a-4352-ee3c-fcae140502a2"
      },
      "execution_count": null,
      "outputs": [
        {
          "output_type": "execute_result",
          "data": {
            "text/plain": [
              "0.6681531047810609"
            ]
          },
          "metadata": {},
          "execution_count": 34
        }
      ]
    },
    {
      "cell_type": "code",
      "source": [
        "x=[65,66,67,68,69,70,71]\n",
        "y=[67,68,66,69,72,72,69]\n",
        "x1=[];y1=[]\n",
        "x2=[];y2=[]\n",
        "z1=[]\n",
        "sum1=0;sum2=0;sum3=0;sum4=0;sum5=0\n",
        "for i in x:\n",
        "  sum1=sum1+i\n",
        "mean1=sum1/len(x)\n",
        "for i in x:\n",
        "  deviation1=i-mean1\n",
        "  x1.append(int(deviation1))\n",
        "  devsqu1=deviation1*deviation1\n",
        "  x2.append(devsqu1)\n",
        "for i in x2:\n",
        "  sum3=sum3+i\n",
        "print(x1)\n",
        "print(x2)\n",
        "print(sum3)\n",
        "for i in y:\n",
        "  sum2=sum2+i\n",
        "mean2=sum2/len(y)\n",
        "for i in y:\n",
        "    deviation2=i-mean2\n",
        "    y1.append(int(deviation2))\n",
        "    devsqu2=deviation2*deviation2\n",
        "    y2.append(devsqu2)\n",
        "for i in y2:\n",
        "    sum4=sum4+i\n",
        "for i,j in zip(x1,y1):\n",
        "  z1.append(i*j)\n",
        "for i in z1:\n",
        "  sum5=sum5+i\n",
        "r=sum5/(sum3*sum4)**0.5\n",
        "print(y1)\n",
        "print(y2)\n",
        "print(sum4)\n",
        "print(z1)\n",
        "print(sum5)\n",
        "print(r)"
      ],
      "metadata": {
        "colab": {
          "base_uri": "https://localhost:8080/"
        },
        "id": "CCosNAv8LZ4E",
        "outputId": "3d9ef0b9-6d7c-4b9f-cf7e-b018114d6a02"
      },
      "execution_count": null,
      "outputs": [
        {
          "output_type": "stream",
          "name": "stdout",
          "text": [
            "[-3, -2, -1, 0, 1, 2, 3]\n",
            "[9.0, 4.0, 1.0, 0.0, 1.0, 4.0, 9.0]\n",
            "28.0\n",
            "[-2, -1, -3, 0, 3, 3, 0]\n",
            "[4.0, 1.0, 9.0, 0.0, 9.0, 9.0, 0.0]\n",
            "32.0\n",
            "[6, 2, 3, 0, 3, 6, 0]\n",
            "20\n",
            "0.6681531047810609\n"
          ]
        }
      ]
    },
    {
      "cell_type": "code",
      "source": [
        "def correlation(x,y):\n",
        "  x1=[];y1=[];x2=[];y2=[];z1=[]\n",
        "  sum1=0;sum2=0;sum3=0;sum4=0;sum5=0\n",
        "  for i in x:\n",
        "    sum1=sum1+i\n",
        "  mean1=sum1/len(x)\n",
        "  for i in x:\n",
        "    deviation1=i-mean1\n",
        "    x1.append(deviation1)\n",
        "    devsqu1=deviation1*deviation1\n",
        "    x2.append(devsqu1)\n",
        "  for i in x2:\n",
        "    sum3=sum3+i\n",
        "  for i in y:\n",
        "    sum2=sum2+i\n",
        "  mean2=sum2/len(y)\n",
        "  for i in y:\n",
        "    deviation2=i-mean2\n",
        "    y1.append(deviation2)\n",
        "    devsqu2=deviation2*deviation2\n",
        "    y2.append(devsqu2)\n",
        "  for i in y2:\n",
        "    sum4=sum4+i\n",
        "  for i,j in zip(x1,y1):\n",
        "    z1.append(i*j)\n",
        "  for i in z1:\n",
        "    sum5=sum5+i\n",
        "  r=sum5/(sum3*sum4)**0.5\n",
        "  return(r)\n",
        "correlation([65,66,67,68,69,70,71],[67,68,66,69,72,72,69])\n"
      ],
      "metadata": {
        "colab": {
          "base_uri": "https://localhost:8080/"
        },
        "id": "i8tC9nnlNZHK",
        "outputId": "7fdea8a3-d239-4782-88a7-bab790339c08"
      },
      "execution_count": null,
      "outputs": [
        {
          "output_type": "execute_result",
          "data": {
            "text/plain": [
              "0.6681531047810609"
            ]
          },
          "metadata": {},
          "execution_count": 6
        }
      ]
    },
    {
      "cell_type": "markdown",
      "source": [
        "Spearman's Rank Correlation(Ranks are given)"
      ],
      "metadata": {
        "id": "iWu4i0V8N0ni"
      }
    },
    {
      "cell_type": "code",
      "source": [
        "R1=[1,4,8,9,6,10,7,3,2,5]\n",
        "R2=[4,8,7,5,9,6,10,2,3,1]\n",
        "D=[];D1=[]\n",
        "sum=0\n",
        "n=len(R1)\n",
        "for i,j in zip(R1,R2):\n",
        "  D.append(i-j)\n",
        "for i in D:\n",
        "  D1.append(i*i)\n",
        "for i in D1:\n",
        "  sum=sum+i\n",
        "r=1-(6*sum)/((n*n*n)-n)\n",
        "print(D)\n",
        "print(D1)\n",
        "print(sum)\n",
        "print(r)"
      ],
      "metadata": {
        "colab": {
          "base_uri": "https://localhost:8080/"
        },
        "id": "PSC4a8jkN11p",
        "outputId": "b1b0baf5-28f3-476e-c3f3-837f0f084896"
      },
      "execution_count": null,
      "outputs": [
        {
          "output_type": "stream",
          "name": "stdout",
          "text": [
            "[-3, -4, 1, 4, -3, 4, -3, 1, -1, 4]\n",
            "[9, 16, 1, 16, 9, 16, 9, 1, 1, 16]\n",
            "94\n",
            "0.4303030303030303\n"
          ]
        }
      ]
    },
    {
      "cell_type": "code",
      "source": [
        "def rank(R1,R2):\n",
        "  D=[];D1=[]\n",
        "  sum=0\n",
        "  n=len(R1)\n",
        "  for i,j in zip(R1,R2):\n",
        "    D.append(i-j)\n",
        "  for i in D:\n",
        "    D1.append(i*i)\n",
        "  for i in D1:\n",
        "    sum=sum+i\n",
        "  r=1-(6*sum)/((n*n*n)-n)\n",
        "  return(r)\n",
        "rank([1,4,8,9,6,10,7,3,2,5],[4,8,7,5,9,6,10,2,3,1])"
      ],
      "metadata": {
        "colab": {
          "base_uri": "https://localhost:8080/"
        },
        "id": "MDKjwwj7OI87",
        "outputId": "332befc3-e4a1-499e-a2d3-f7657849bd06"
      },
      "execution_count": null,
      "outputs": [
        {
          "output_type": "execute_result",
          "data": {
            "text/plain": [
              "0.4303030303030303"
            ]
          },
          "metadata": {},
          "execution_count": 7
        }
      ]
    },
    {
      "cell_type": "code",
      "source": [
        "from scipy.stats import spearmanr\n",
        "R1=[1,4,8,9,6,10,7,3,2,5]\n",
        "R2=[4,8,7,5,9,6,10,2,3,1]\n",
        "corr = spearmanr(R1,R2)\n",
        "print(\"Spearman's correlation coefficient:\", corr)\n"
      ],
      "metadata": {
        "colab": {
          "base_uri": "https://localhost:8080/"
        },
        "id": "ZVmsyQAtP1lt",
        "outputId": "e2a0cc45-a89c-44b1-aa6c-093ba4c162e9"
      },
      "execution_count": null,
      "outputs": [
        {
          "output_type": "stream",
          "name": "stdout",
          "text": [
            "Spearman's correlation coefficient: SignificanceResult(statistic=0.43030303030303024, pvalue=0.21449233253280775)\n"
          ]
        }
      ]
    },
    {
      "cell_type": "markdown",
      "source": [
        "When Ranks are not given"
      ],
      "metadata": {
        "id": "x2FU9rYzP8Zq"
      }
    },
    {
      "cell_type": "code",
      "source": [
        "x=[8,36,98,25,75,82,92,62,65,35]\n",
        "y=[84,51,91,60,68,62,86,58,35,49]\n",
        "x1=[];y1=[];D=[];D1=[]\n",
        "sum=0\n",
        "n=len(x)\n",
        "rank1=[sorted(x,reverse=True).index(i)+1 for i in x]\n",
        "x1.append(rank1)\n",
        "print(x1)\n",
        "rank2=[sorted(y,reverse=True).index(i)+1 for i in y]\n",
        "y1.append(rank2)\n",
        "print(y1)\n",
        "for i,j in zip(x1[0],y1[0]):\n",
        "  D.append(i-j)\n",
        "print(D)\n",
        "for i in D:\n",
        "  D1.append(i*i)\n",
        "print(D1)\n",
        "for i in D1:\n",
        "  sum=sum+i\n",
        "print(sum)\n",
        "r=1-(6*sum)/((n*n*n)-n)\n",
        "print(r)\n"
      ],
      "metadata": {
        "colab": {
          "base_uri": "https://localhost:8080/"
        },
        "id": "icn3r7hGQO-o",
        "outputId": "3f1a4fd8-a479-4e22-b7d2-86ad62b60604"
      },
      "execution_count": null,
      "outputs": [
        {
          "output_type": "stream",
          "name": "stdout",
          "text": [
            "[[10, 7, 1, 9, 4, 3, 2, 6, 5, 8]]\n",
            "[[3, 8, 1, 6, 4, 5, 2, 7, 10, 9]]\n",
            "[7, -1, 0, 3, 0, -2, 0, -1, -5, -1]\n",
            "[49, 1, 0, 9, 0, 4, 0, 1, 25, 1]\n",
            "90\n",
            "0.4545454545454546\n"
          ]
        }
      ]
    },
    {
      "cell_type": "code",
      "source": [
        "def Rank(x,y):\n",
        "  x1=[];y1=[];D=[];D1=[]\n",
        "  sum=0\n",
        "  n=len(x)\n",
        "  rank1=[sorted(x,reverse=True).index(i)+1 for i in x]\n",
        "  x1.append(rank1)\n",
        "  rank2=[sorted(y,reverse=True).index(i)+1 for i in y]\n",
        "  y1.append(rank2)\n",
        "  for i,j in zip(x1[0],y1[0]):\n",
        "    D.append(i-j)\n",
        "  for i in D:\n",
        "    D1.append(i*i)\n",
        "  for i in D1:\n",
        "    sum=sum+i\n",
        "  r=1-(6*sum)/((n*n*n)-n)\n",
        "  return(r)\n",
        "Rank([8,36,98,25,75,82,92,62,65,35],[84,51,91,60,68,62,86,58,35,49])"
      ],
      "metadata": {
        "colab": {
          "base_uri": "https://localhost:8080/"
        },
        "id": "etky_X8HQlLA",
        "outputId": "20c3b57c-2b88-46d0-e492-2238db0cbc7b"
      },
      "execution_count": null,
      "outputs": [
        {
          "output_type": "execute_result",
          "data": {
            "text/plain": [
              "0.4545454545454546"
            ]
          },
          "metadata": {},
          "execution_count": 8
        }
      ]
    },
    {
      "cell_type": "markdown",
      "source": [
        "ANOVA\n"
      ],
      "metadata": {
        "id": "1TiCTl2eRGvV"
      }
    },
    {
      "cell_type": "code",
      "source": [
        "T1=[11.6,10.3,10,11.5,11.8,11.8,12.1,10.8,11.9,10.7,11.5]\n",
        "T2=[11.2,8.9,9.2,8.8,8.4,9.1,6.3,9.3,7.8,8.8,10,9.7]\n",
        "T3=[9.8,9.7,11.5,11.6,10.8,9.1,10.5,10,12.4,10.7]\n",
        "sumt1=0;sumt2=0;sumt3=0;sumt4=0;sumt5=0;sumt6=0;\n",
        "n1=len(T1)\n",
        "n2=len(T2)\n",
        "n3=len(T3)\n",
        "N=n1+n2+n3\n",
        "t1=[];t2=[];t3=[];t4=[]\n",
        "for i in T1:\n",
        "  sumt1=sumt1+i\n",
        "mean1=sumt1/n1\n",
        "s1=sumt1*mean1\n",
        "for i in T2:\n",
        "  sumt2=sumt2+i\n",
        "mean2=sumt2/n2\n",
        "s2=sumt2*mean2\n",
        "for i in T3:\n",
        "  sumt3=sumt3+i\n",
        "mean3=sumt3/n3\n",
        "s3=sumt3*mean3\n",
        "T=sumt1+sumt2+sumt3\n",
        "Xbar=T/N\n",
        "for i in T1:\n",
        "  t1.append(i*i)\n",
        "for i in t1:\n",
        "  sumt4=sumt4+i\n",
        "for i in T2:\n",
        "  t2.append(i*i)\n",
        "for i in t2:\n",
        "  sumt5=sumt5+i\n",
        "for i in T3:\n",
        "  t3.append(i*i)\n",
        "for i in t3:\n",
        "  sumt6=sumt6+i\n",
        "sum33=sumt4+sumt5+sumt6\n",
        "correction=(T*T)/N\n",
        "TSS=sum33-correction\n",
        "SSBG=((sumt1*sumt1)/n1)+((sumt2*sumt2)/n2)+((sumt3*sumt3)/n3)-correction\n",
        "SSWG=TSS-SSBG\n",
        "DFtss=N-1\n",
        "DFbg=3-1\n",
        "DFWG=DFtss-DFbg\n",
        "VBG=SSBG/DFbg\n",
        "VWG=SSWG/DFWG\n",
        "varianceRatio=VBG/VWG\n",
        "print(sum33)\n",
        "print(correction)\n",
        "print(TSS)\n",
        "print(SSBG)\n",
        "print(SSWG)\n",
        "print(DFWG)\n",
        "print(VBG)\n",
        "print(VWG)\n",
        "print(varianceRatio)"
      ],
      "metadata": {
        "colab": {
          "base_uri": "https://localhost:8080/"
        },
        "id": "iE5Ea9BcRHxU",
        "outputId": "8bce8e78-0ac2-4249-cd15-749a03a9bde1"
      },
      "execution_count": null,
      "outputs": [
        {
          "output_type": "stream",
          "name": "stdout",
          "text": [
            "3516.32\n",
            "3453.7503030303033\n",
            "62.569696969696906\n",
            "32.80971212121176\n",
            "29.759984848485146\n",
            "30\n",
            "16.40485606060588\n",
            "0.9919994949495049\n",
            "16.537161706358454\n"
          ]
        }
      ]
    },
    {
      "cell_type": "code",
      "source": [
        "def ANOVA(T1,T2,T3):\n",
        "  sumt1=0;sumt2=0;sumt3=0;sumt4=0;sumt5=0;sumt6=0;\n",
        "  n1=len(T1)\n",
        "  n2=len(T2)\n",
        "  n3=len(T3)\n",
        "  N=n1+n2+n3\n",
        "  t1=[];t2=[];t3=[];t4=[]\n",
        "  for i in T1:\n",
        "    sumt1=sumt1+i\n",
        "  mean1=sumt1/n1\n",
        "  s1=sumt1*mean1\n",
        "  for i in T2:\n",
        "    sumt2=sumt2+i\n",
        "  mean2=sumt2/n2\n",
        "  s2=sumt2*mean2\n",
        "  for i in T3:\n",
        "    sumt3=sumt3+i\n",
        "  mean3=sumt3/n3\n",
        "  s3=sumt3*mean3\n",
        "  T=sumt1+sumt2+sumt3\n",
        "  Xbar=T/N\n",
        "  for i in T1:\n",
        "    t1.append(i*i)\n",
        "  for i in t1:\n",
        "    sumt4=sumt4+i\n",
        "  for i in T2:\n",
        "    t2.append(i*i)\n",
        "  for i in t2:\n",
        "    sumt5=sumt5+i\n",
        "  for i in T3:\n",
        "    t3.append(i*i)\n",
        "  for i in t3:\n",
        "    sumt6=sumt6+i\n",
        "  sum33=sumt4+sumt5+sumt6\n",
        "  correction=(T*T)/N\n",
        "  TSS=sum33-correction\n",
        "  SSBG=((sumt1*sumt1)/n1)+((sumt2*sumt2)/n2)+((sumt3*sumt3)/n3)-correction\n",
        "  SSWG=TSS-SSBG\n",
        "  DFtss=N-1\n",
        "  DFbg=3-1\n",
        "  DFWG=DFtss-DFbg\n",
        "  VBG=SSBG/DFbg\n",
        "  VWG=SSWG/DFWG\n",
        "  varianceRatio=VBG/VWG\n",
        "  return(varianceRatio)\n",
        "ANOVA([11.6,10.3,10,11.5,11.8,11.8,12.1,10.8,11.9,10.7,11.5],[11.2,8.9,9.2,8.8,8.4,9.1,6.3,9.3,7.8,8.8,10,9.7],[9.8,9.7,11.5,11.6,10.8,9.1,10.5,10,12.4,10.7])"
      ],
      "metadata": {
        "colab": {
          "base_uri": "https://localhost:8080/"
        },
        "id": "4_lSV6xzRat_",
        "outputId": "19bdfbe8-b387-4aea-dde5-c05a8860a2d7"
      },
      "execution_count": null,
      "outputs": [
        {
          "output_type": "execute_result",
          "data": {
            "text/plain": [
              "16.537161706358454"
            ]
          },
          "metadata": {},
          "execution_count": 9
        }
      ]
    },
    {
      "cell_type": "code",
      "source": [
        "from scipy.stats import f_oneway\n",
        "T1=[11.6,10.3,10,11.5,11.8,11.8,12.1,10.8,11.9,10.7,11.5]\n",
        "T2=[11.2,8.9,9.2,8.8,8.4,9.1,6.3,9.3,7.8,8.8,10,9.7]\n",
        "T3=[9.8,9.7,11.5,11.6,10.8,9.1,10.5,10,12.4,10.7]\n",
        "f_oneway(T1,T2,T3)"
      ],
      "metadata": {
        "colab": {
          "base_uri": "https://localhost:8080/"
        },
        "id": "hjj8vDtdRvTV",
        "outputId": "0f79f974-e63b-4ca0-c7f4-5ba15ffe8ca0"
      },
      "execution_count": null,
      "outputs": [
        {
          "output_type": "execute_result",
          "data": {
            "text/plain": [
              "F_onewayResult(statistic=16.537161706358813, pvalue=1.442214347105621e-05)"
            ]
          },
          "metadata": {},
          "execution_count": 52
        }
      ]
    },
    {
      "cell_type": "markdown",
      "source": [
        "STANDARD ERROR OF MEAN"
      ],
      "metadata": {
        "id": "fyQ0IsgFSM16"
      }
    },
    {
      "cell_type": "code",
      "source": [
        "x=[2,5,3,4,1]\n",
        "sum=0\n",
        "sumx=0\n",
        "N=5\n",
        "D=[];xsqur=[]\n",
        "for i in x:\n",
        "  sum=sum+i\n",
        "mean=sum/N\n",
        "for i in x:\n",
        "  Deviation=i-mean\n",
        "  D.append(Deviation)\n",
        "for i in D:\n",
        "  xsqure=i*i\n",
        "  xsqur.append(xsqure)\n",
        "for i in xsqur:\n",
        "  sumx=sumx+i\n",
        "SD=(sumx/(N-1))**0.5\n",
        "SE=SD/(N)**0.5\n",
        "print(SE)"
      ],
      "metadata": {
        "colab": {
          "base_uri": "https://localhost:8080/"
        },
        "id": "VteFcATqSEHj",
        "outputId": "9c8ff350-de09-477d-ce5d-1df048c65e27"
      },
      "execution_count": null,
      "outputs": [
        {
          "output_type": "stream",
          "name": "stdout",
          "text": [
            "0.7071067811865476\n"
          ]
        }
      ]
    },
    {
      "cell_type": "code",
      "source": [
        "def SEofMean(x):\n",
        "  sum=0\n",
        "  sumx=0\n",
        "  N=5\n",
        "  D=[];xsqur=[]\n",
        "  for i in x:\n",
        "    sum=sum+i\n",
        "  mean=sum/N\n",
        "  for i in x:\n",
        "    Deviation=i-mean\n",
        "    D.append(Deviation)\n",
        "  for i in D:\n",
        "    xsqure=i*i\n",
        "    xsqur.append(xsqure)\n",
        "  for i in xsqur:\n",
        "    sumx=sumx+i\n",
        "  SD=(sumx/(N-1))**0.5\n",
        "  SE=SD/(N)**0.5\n",
        "  return(SE)\n",
        "SEofMean([2,5,3,4,1])\n",
        "\n"
      ],
      "metadata": {
        "colab": {
          "base_uri": "https://localhost:8080/"
        },
        "id": "Sy58zHrRSaCN",
        "outputId": "8593d1d9-cf78-417e-b887-175f0dfc6674"
      },
      "execution_count": null,
      "outputs": [
        {
          "output_type": "execute_result",
          "data": {
            "text/plain": [
              "0.7071067811865476"
            ]
          },
          "metadata": {},
          "execution_count": 54
        }
      ]
    },
    {
      "cell_type": "code",
      "source": [
        "from scipy.stats import sem\n",
        "x=[2,5,3,4,1]\n",
        "sem(x)"
      ],
      "metadata": {
        "colab": {
          "base_uri": "https://localhost:8080/"
        },
        "id": "DdrxrfpiS9mB",
        "outputId": "766b5902-0999-46e1-af26-baf535144d8a"
      },
      "execution_count": null,
      "outputs": [
        {
          "output_type": "execute_result",
          "data": {
            "text/plain": [
              "0.7071067811865476"
            ]
          },
          "metadata": {},
          "execution_count": 55
        }
      ]
    },
    {
      "cell_type": "markdown",
      "source": [
        "STANDARD ERROR OF STANDARD DEVIATION"
      ],
      "metadata": {
        "id": "sVMJtWfrTQAk"
      }
    },
    {
      "cell_type": "code",
      "source": [
        "x=[2,5,3,4,1]\n",
        "N=5\n",
        "sum=0;sumx=0\n",
        "D=[];xsqur=[]\n",
        "for i in x:\n",
        "  sum=sum+i\n",
        "mean=sum/N\n",
        "for i in x:\n",
        "  Deviation=i-mean\n",
        "  D.append(Deviation)\n",
        "for i in D:\n",
        "  xsqure=i*i\n",
        "  xsqur.append(xsqure)\n",
        "for i in xsqur:\n",
        "  sumx=sumx+i\n",
        "SD=(sumx/(N-1))**0.5\n",
        "SE=SD/(2*N)**0.5\n",
        "print(SE)"
      ],
      "metadata": {
        "colab": {
          "base_uri": "https://localhost:8080/"
        },
        "id": "04rtIRq6TT6r",
        "outputId": "f2f9c366-0ead-4392-b001-1af042937ccc"
      },
      "execution_count": null,
      "outputs": [
        {
          "output_type": "stream",
          "name": "stdout",
          "text": [
            "0.5\n"
          ]
        }
      ]
    },
    {
      "cell_type": "code",
      "source": [
        "def SEofSD(x):\n",
        "  N=5\n",
        "  sum=0;sumx=0\n",
        "  D=[];xsqur=[]\n",
        "  for i in x:\n",
        "    sum=sum+i\n",
        "  mean=sum/N\n",
        "  for i in x:\n",
        "    Deviation=i-mean\n",
        "    D.append(Deviation)\n",
        "  for i in D:\n",
        "    xsqure=i*i\n",
        "    xsqur.append(xsqure)\n",
        "  for i in xsqur:\n",
        "    sumx=sumx+i\n",
        "  SD=(sumx/(N-1))**0.5\n",
        "  SE=SD/(2*N)**0.5\n",
        "  return(SE)\n",
        "SEofSD([2,5,3,4,1])"
      ],
      "metadata": {
        "colab": {
          "base_uri": "https://localhost:8080/"
        },
        "id": "46ZyMZoiTcBg",
        "outputId": "d5fa40ca-d6f9-4300-f5a4-485f79a396cf"
      },
      "execution_count": null,
      "outputs": [
        {
          "output_type": "execute_result",
          "data": {
            "text/plain": [
              "0.5"
            ]
          },
          "metadata": {},
          "execution_count": 57
        }
      ]
    },
    {
      "cell_type": "markdown",
      "source": [
        "t-TEST"
      ],
      "metadata": {
        "id": "qcAT_D4XUlfl"
      }
    },
    {
      "cell_type": "code",
      "source": [
        "import scipy.stats as stats\n",
        "x1=[49,41,37,41,42,37,39,38,41,35]\n",
        "x2=[52,43,46,52,46,38,42,41,42,38]\n",
        "stats.ttest_ind(a=x1,b=x2,equal_var=True)"
      ],
      "metadata": {
        "colab": {
          "base_uri": "https://localhost:8080/"
        },
        "id": "MlewtEOSUyHf",
        "outputId": "6568ecab-be6f-4462-a016-0e162a92aa40"
      },
      "execution_count": null,
      "outputs": [
        {
          "output_type": "execute_result",
          "data": {
            "text/plain": [
              "TtestResult(statistic=-1.9944674859436007, pvalue=0.061471569412404524, df=18.0)"
            ]
          },
          "metadata": {},
          "execution_count": 61
        }
      ]
    },
    {
      "cell_type": "code",
      "source": [
        "x1=[49,41,37,41,42,37,39,38,41,35]\n",
        "x2=[52,43,46,52,46,38,42,41,42,38]\n",
        "sum1=0;sum2=0;sumx1=0;sumx2=0\n",
        "n1=len(x1);n2=len(x2)\n",
        "r=0.50\n",
        "TV=2.552\n",
        "X1=[];X12=[];X2=[];X22=[]\n",
        "for i in x1:\n",
        "  sum1=sum1+i\n",
        "mean1=sum1/n1\n",
        "for i in x1:\n",
        "  x1=i-mean1\n",
        "  X1.append(x1)\n",
        "for i in X1:\n",
        "  x1sqr=i*i\n",
        "  X12.append(x1sqr)\n",
        "for i in X12:\n",
        "  sumx1=sumx1+i\n",
        "for i in x2:\n",
        "  sum2=sum2+i\n",
        "mean2=sum2/n2\n",
        "for i in x2:\n",
        "  x2=i-mean2\n",
        "  X2.append(x2)\n",
        "for i in X2:\n",
        "  x2sqr=i*i\n",
        "  X22.append(x2sqr)\n",
        "for i in X22:\n",
        "  sumx2=sumx2+i\n",
        "SD1=(sumx1/(n1-1))**0.5\n",
        "SD2=(sumx2/(n2-1))**0.5\n",
        "SEk1=SD1/(n1)**0.5\n",
        "SEk2=SD2/(n2)**0.5\n",
        "SEd=((SEk1*SEk1)+(SEk2*SEk2)-2*r*SEk1*SEk2)**0.5\n",
        "t=(mean1-mean2)/SEd\n",
        "df=n1+n2-2\n",
        "if t>TV:print(\"Accept Null Hypothesis\")\n",
        "else:print(\"Reject Null Hypthesis\")\n",
        "print(t)"
      ],
      "metadata": {
        "colab": {
          "base_uri": "https://localhost:8080/"
        },
        "id": "SQGCk2HpTeGv",
        "outputId": "eebb83df-ac22-4e32-de05-b28166114b22"
      },
      "execution_count": null,
      "outputs": [
        {
          "output_type": "stream",
          "name": "stdout",
          "text": [
            "Reject Null Hypthesis\n",
            "-2.7773377222866946\n"
          ]
        }
      ]
    },
    {
      "cell_type": "code",
      "source": [
        "def t_test(x1,x2):\n",
        "  sum1=0;sum2=0;sumx1=0;sumx2=0\n",
        "  n1=len(x1);n2=len(x2)\n",
        "  r=0.50\n",
        "  TV=2.552\n",
        "  X1=[];X12=[];X2=[];X22=[]\n",
        "  for i in x1:\n",
        "    sum1=sum1+i\n",
        "  mean1=sum1/n1\n",
        "  for i in x1:\n",
        "    x1=i-mean1\n",
        "    X1.append(x1)\n",
        "  for i in X1:\n",
        "    x1sqr=i*i\n",
        "    X12.append(x1sqr)\n",
        "  for i in X12:\n",
        "    sumx1=sumx1+i\n",
        "  for i in x2:\n",
        "    sum2=sum2+i\n",
        "  mean2=sum2/n2\n",
        "  for i in x2:\n",
        "    x2=i-mean2\n",
        "    X2.append(x2)\n",
        "  for i in X2:\n",
        "    x2sqr=i*i\n",
        "    X22.append(x2sqr)\n",
        "  for i in X22:\n",
        "    sumx2=sumx2+i\n",
        "  SD1=(sumx1/(n1-1))**0.5\n",
        "  SD2=(sumx2/(n2-1))**0.5\n",
        "  SEk1=SD1/(n1)**0.5\n",
        "  SEk2=SD2/(n2)**0.5\n",
        "  SEd=((SEk1*SEk1)+(SEk2*SEk2)-2*r*SEk1*SEk2)**0.5\n",
        "  t=(mean1-mean2)/SEd\n",
        "  df=n1+n2-2\n",
        "  if t>TV:print(\"Accept Null Hypothesis\")\n",
        "  else:print(\"Reject Null Hypthesis\")\n",
        "  return(t)\n",
        "t_test([49,41,37,41,42,37,39,38,41,35],[52,43,46,52,46,38,42,41,42,38])"
      ],
      "metadata": {
        "colab": {
          "base_uri": "https://localhost:8080/"
        },
        "id": "4X8Hd9k9WNWc",
        "outputId": "a13d05c2-648c-43a3-e327-909e5c5fed19"
      },
      "execution_count": null,
      "outputs": [
        {
          "output_type": "stream",
          "name": "stdout",
          "text": [
            "Reject Null Hypthesis\n"
          ]
        },
        {
          "output_type": "execute_result",
          "data": {
            "text/plain": [
              "-2.7773377222866946"
            ]
          },
          "metadata": {},
          "execution_count": 11
        }
      ]
    },
    {
      "cell_type": "markdown",
      "source": [
        "CHI-SQURE TEST"
      ],
      "metadata": {
        "id": "7tr4u6mhXK29"
      }
    },
    {
      "cell_type": "code",
      "source": [
        "from scipy.stats import chi2_contingency\n",
        "data=[[14,56,110,88,40,12],[10,50,100,100,50,10]]\n",
        "stat, p, dof, expected = chi2_contingency(data)\n",
        "alpha = 0.05\n",
        "print(\"p value is \" + str(p))\n",
        "if p <= alpha:\n",
        "    print('Dependent (reject H0)')\n",
        "else:\n",
        "    print('Independent (H0 holds true)')"
      ],
      "metadata": {
        "colab": {
          "base_uri": "https://localhost:8080/"
        },
        "id": "CUrp1bFFXhzo",
        "outputId": "e0364e3f-363d-477f-8789-2682242d13cf"
      },
      "execution_count": null,
      "outputs": [
        {
          "output_type": "stream",
          "name": "stdout",
          "text": [
            "p value is 0.6171378001156697\n",
            "Independent (H0 holds true)\n"
          ]
        }
      ]
    },
    {
      "cell_type": "code",
      "source": [
        "O=[14,56,110,88,40,12]\n",
        "E=[10,50,100,100,50,10]\n",
        "D=[]\n",
        "sum=0\n",
        "n=6\n",
        "TV=11.07\n",
        "for i,j in zip(O,E):\n",
        "  D.append((i-j)**2/j)\n",
        "for i in D:\n",
        "  sum=sum+i\n",
        "df=n-1\n",
        "if sum<TV:print(\"Accept\")\n",
        "else:print(\"Reject\")\n",
        "print(sum)"
      ],
      "metadata": {
        "colab": {
          "base_uri": "https://localhost:8080/"
        },
        "id": "iuSxVtauXLtb",
        "outputId": "77a5258d-c248-4fb0-a9cd-fa5192b7bae9"
      },
      "execution_count": null,
      "outputs": [
        {
          "output_type": "stream",
          "name": "stdout",
          "text": [
            "Accept\n",
            "7.16\n"
          ]
        }
      ]
    },
    {
      "cell_type": "code",
      "source": [
        "def chi_squre(O,E):\n",
        "  D=[]\n",
        "  sum=0\n",
        "  n=6\n",
        "  TV=11.07\n",
        "  for i,j in zip(O,E):\n",
        "    D.append((i-j)**2/j)\n",
        "  for i in D:\n",
        "    sum=sum+i\n",
        "  df=n-1\n",
        "  if sum<TV:print(\"Accept\")\n",
        "  else:print(\"Reject\")\n",
        "  return(sum)\n",
        "chi_squre([14,56,110,88,40,12],[10,50,100,100,50,10])\n"
      ],
      "metadata": {
        "colab": {
          "base_uri": "https://localhost:8080/"
        },
        "id": "O_dJYrPTYO2B",
        "outputId": "9376c44e-1fb6-4d75-9b55-d8a5ac28bd65"
      },
      "execution_count": null,
      "outputs": [
        {
          "output_type": "stream",
          "name": "stdout",
          "text": [
            "Accept\n"
          ]
        },
        {
          "output_type": "execute_result",
          "data": {
            "text/plain": [
              "7.16"
            ]
          },
          "metadata": {},
          "execution_count": 13
        }
      ]
    }
  ]
}